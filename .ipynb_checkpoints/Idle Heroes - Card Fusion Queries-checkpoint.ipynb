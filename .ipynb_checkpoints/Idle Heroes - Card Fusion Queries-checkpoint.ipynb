{
 "cells": [
  {
   "cell_type": "markdown",
   "metadata": {},
   "source": [
    "<font size=5 face=\"Roboto\">SQL Queries to Combine Cards</font><br>"
   ]
  },
  {
   "cell_type": "markdown",
   "metadata": {},
   "source": [
    "<font face=\"Roboto\">The SQL database used here was created by __Rannmann__ on GitHub. There are plans to change the representation, but first we'd lke to see how well we can queriy the correct combinations to fuses 5-star$\\star$ and 6-star$\\star$ Heroes.<br><br>\n",
    "\n",
    "To make the queries easier to write an modify, the __SQLiteStudio__ program and editor were used. Queries were later pasted here into Jupyter. An SQL editor, (with syntax completion and db exploration, etc) is always faster to use on SQL data (to answer quick questions than a Jupyter notebook/ Pandas dataframe.\n",
    "\n",
    "</font><br>"
   ]
  },
  {
   "cell_type": "markdown",
   "metadata": {},
   "source": [
    "<font face=\"Roboto\"><font size=4>Database Creation</font><br>\n",
    "    GitHub user __Rannmann__ provide the DLL for the necesary tables in `tables.sql`. Within SQLiteStudio, you can click a few buttons to _&Add a Dtabase (Ctrl+O)_. Then you give the database a name and location. It's good to choose the extension of `.db` which shoud make your database usable by other variants of sql.<br>\n",
    "    <br>Once this databse is created, you can double-click it in the navigaiton areas, and then open a new black \"page\" for a query (_Open SQL &editor (Alt+E)_). Pasting the DDL query in there, hit the run button, for each separate query, and the commands will be executed.<br>\n",
    "    <br>Note that this fule contains both the `CREATE` statements, and the `INSERT` statements to populate the created tables, ones after the other.<br>\n",
    "    \n",
    "</font>"
   ]
  },
  {
   "cell_type": "markdown",
   "metadata": {},
   "source": [
    "<u>Table Quick Info</u>\n",
    "\n",
    "- `factions` $-$ 3 columns: id, name, icon. 6 rows: `name`s of Shadow, Fortres, Abyss, Forest, Dark, Light\n",
    "  - icon column is always `NULL`\n",
    "- `heroes` $-$ 8 columns: id, faction id, stars, name, icon, hive pve, hive pvp, hive overall score\n",
    "  - icon column is always `NULL`\n",
    "  - the pvp, pve, and overall columns have sparse decimal data from scale of 1-10\n",
    "    - I have no use for these columns, nor data\n",
    "  - 232 rows\n",
    "- `fusions` $-$ 8 columns: id; faction id; result hero; input \\[hero(1,2)]+\\[amount(1,2)]; fodder \\[amount,stars]\n",
    "  - 112 rows\n",
    "  - all cells contain data\n",
    "\n"
   ]
  },
  {
   "cell_type": "markdown",
   "metadata": {},
   "source": [
    "<font face=\"Roboto\"><font size=4>Card Fusion Background Information</font><br>\n",
    "    <font sisze=3> For 5-star and 6-star cards, at the least, $2$ unique heroes ar eused as \"input\". While the uniqueness is $2$ the number of each unique hero can vary.<br><br>\n",
    "        Then, there are an additional $3$ to $4$ heroes of any type/name that must also be included. These can be futhere copies of the unique heroes, copies of a completely different hero, or distinct instances of $3$ to $4$ hereos. Since the only restriction on the additional cards in the star level, they are often nicknamed \"fodder\" cards.<br><br>\n",
    "        Furthermore, for many $\\star$5-star hereos, they are fused by using multiple copies of there $\\star$4-star equivalents (plus a certain number of \"fodder\" cards).<br><br>\n",
    "        An example is below.\n",
    "    </font>\n",
    "</font>"
   ]
  },
  {
   "cell_type": "markdown",
   "metadata": {},
   "source": [
    "<u>Card Fusion Example</u>\n",
    "\n",
    "__Hero__ : $\\star$ 5-star \"Ent Elder\"  \n",
    "```\n",
    "heroes.stars: 5\n",
    "heroes.name: Ent Elder\n",
    "heroes.id: 160\n",
    "\n",
    "faction.id: 4\n",
    "faction.name: Forest\n",
    "\n",
    "fusions.id: 72 (based on the order inserted into the db)\n",
    "fusions.faction_id: 4 (matches the id in the _faction_ table)\n",
    "fusions.result_hero_id: 160 (matches the id in the heroes table)\n",
    "\n",
    "fusions.input_hero_1_id: 152\n",
    "    fusions.input_hero_1_amount: 4\n",
    "    (corresponding) heroes.name: Ent Elder (the 4-star version of the 5-star we are fusing)\n",
    "    (corresponding) heroes.stars: 4\n",
    "    \n",
    "fusions.input_hero_2_id: 148\n",
    "    fusions.input_hero_1_amount: 4 (the copies of this specific 3-star hero we need)\n",
    "    (corresponding) heroes.name: Frey\n",
    "    (corresponding) heroes.stars: 3\n",
    "\n",
    "fusions.fodder_amount: 4 (the number of any mixed or match 4-star heroes we need)\n",
    "fusions.fodder_stars: 4\n",
    "```"
   ]
  },
  {
   "cell_type": "markdown",
   "metadata": {},
   "source": [
    "<font face=\"Roboto\"><font size=4>Why Make an App?</font><br><br>\n",
    "    <font size=3>The goal of the app would be to both indicate which heroes can currently be fused based on data abotu the players \"active\" hero inventory, __and__ shows which heroes have _alomst_ enough of their components to be fused.<br><br>\n",
    "        Moreover, players also have \"dormant\" bag inventory. This \"Bag\" can contain unused cards, a ertain number of which can be used to summon a random hero of a certain star level, or a specific hero.<br><br>\n",
    "        It would be ideal if the app could take into account <u>both</u> the \"active\" hero inventory and the \"dormant\" hero-cards in the bag inventory, to tell the player (again) <br><br>\n",
    "        <li> which $\\star$5-star and $\\star$6-star cards can currently be fused _and_ </li>\n",
    "        <li> which of those cards is close to completion. Clos can mean missing 1 to $n$ components</li>"
   ]
  },
  {
   "cell_type": "markdown",
   "metadata": {},
   "source": [
    "<u>Extra</u>\n",
    "\n",
    "The format of th SQL database is fine, give the rules of how cards combine. However, it would be nice to modify the normalization andnot have columns like `input_1_id`, `input_2_id`. Instead, we couldmake join to an inputs table that has 2 entries for the specific inputs.\n",
    "\n",
    "Additionally, we have \"asset\" data from other GitHub repositories, such that we could crate a directory of all the images, and then store the image location into the database. This would make the look up (via a Jupyter Notebook or an App) simpler."
   ]
  },
  {
   "cell_type": "markdown",
   "metadata": {},
   "source": [
    "- Base Queries"
   ]
  },
  {
   "cell_type": "markdown",
   "metadata": {},
   "source": [
    "```sql\n",
    "select * from factions;\n",
    "\n",
    "select * from heroes;\n",
    "\n",
    "select * from fusions;\n",
    "```"
   ]
  },
  {
   "cell_type": "markdown",
   "metadata": {},
   "source": [
    "- Query used for example"
   ]
  },
  {
   "cell_type": "markdown",
   "metadata": {},
   "source": [
    "```sql\n",
    "select\n",
    "    h.stars,\n",
    "    h.name,\n",
    "    h.id as heroes_table_id,\n",
    "    fus.*,\n",
    "    ih1.stars as IH1stars, ih1.name as IH1name,\n",
    "    ih2.stars as IH2stars, ih2.name as IH2name\n",
    "from fusions as fus\n",
    "\n",
    "left join heroes as h\n",
    "    on fus.result_hero_id = h.id\n",
    "\n",
    "left join heroes as ih1\n",
    "    on fus.input_hero_1_id = ih1.id\n",
    "\n",
    "left join heroes as ih2\n",
    "    on fus.input_hero_2_id = ih2.id\n",
    "\n",
    "where fus.faction_id = 4\n",
    "\n",
    ";\n",
    "```"
   ]
  },
  {
   "cell_type": "markdown",
   "metadata": {},
   "source": [
    "- Query Output: As Markdown Table, and Tab Separated\n",
    "\n",
    "<font face=\"Roboto\">\"Ent Elder\" is row 3</font>"
   ]
  },
  {
   "cell_type": "markdown",
   "metadata": {},
   "source": [
    "|stars|\tname|\theroes_table_id|\tid|\tfaction_id|\tresult_hero_id|\tinput_hero_1_id|\tinput_hero_1_amount|\tinput_hero_2_id|\tinput_hero_2_amount|\tfodder_amount|\tfodder_stars|\tIH1stars|\tIH1name|\tIH2stars|\tIH2name\n",
    "|---|\n",
    "|5|\tWind Walker|\t158|\t70|\t4|\t158|\t150|\t4|\t145|\t4|\t4|\t4|\t4|\tWind Walker|\t3|\tSybil\n",
    "|5|\tChief|\t159|\t71|\t4|\t159|\t151|\t4|\t147|\t4|\t4|\t4|\t4|\tChief|\t3|\tBlue Shaman\n",
    "|5|\tEnt Elder|\t160|\t72|\t4|\t160|\t152|\t4|\t148|\t4|\t4|\t4|\t4|\tEnt Elder|\t3|\tFrey\n",
    "|5|\tHeadstriker|\t161|\t73|\t4|\t161|\t153|\t4|\t146|\t4|\t4|\t4|\t4|\tHeadstriker|\t3|\tUndomiel\n",
    "|5|\tThale|\t162|\t74|\t4|\t162|\t154|\t4|\t149|\t4|\t4|\t4|\t4|\tThale|\t3|\tForests Captain\n",
    "|5|\tKargath|\t163|\t75|\t4|\t163|\t155|\t4|\t146|\t4|\t4|\t4|\t4|\tKargath|\t3|\tUndomiel\n",
    "|5|\tThe Grey-eyed|\t164|\t76|\t4|\t164|\t156|\t4|\t148|\t4|\t4|\t4|\t4|\tThe Grey-eyed|\t3|\tFrey\n",
    "|5|\tZekkis|\t165|\t77|\t4|\t165|\t157|\t4|\t147|\t4|\t4|\t4|\t4|\tZekkis|\t3|\tBlue Shaman\n",
    "|6|\tThale|\t178|\t78|\t4|\t178|\t162|\t2|\t165|\t1|\t3|\t5|\t5|\tThale|\t5|\tZekkis\n",
    "|6|\tThe Grey-eyed|\t179|\t79|\t4|\t179|\t164|\t2|\t161|\t1|\t3|\t5|\t5|\tThe Grey-eyed|\t5|\tHeadstriker\n",
    "|6|\tZekkis|\t180|\t80|\t4|\t180|\t165|\t2|\t162|\t1|\t3|\t5|\t5|\tZekkis|\t5|\tThale\n",
    "|6|\tDemon Hunter|\t181|\t81|\t4|\t181|\t166|\t2|\t158|\t1|\t3|\t5|\t5|\tDemon Hunter|\t5|\tWind Walker\n",
    "|6|\tDragon Slayer|\t182|\t82|\t4|\t182|\t167|\t2|\t163|\t1|\t3|\t5|\t5|\tDragon Slayer|\t5|\tKargath\n",
    "|6|\tFaceless|\t183|\t83|\t4|\t183|\t168|\t2|\t161|\t1|\t3|\t5|\t5|\tFaceless|\t5|\tHeadstriker\n",
    "|6|\tRosa|\t184|\t84|\t4|\t184|\t169|\t2|\t165|\t1|\t3|\t5|\t5|\tRosa|\t5|\tZekkis\n",
    "|6|\tStarlight|\t185|\t85|\t4|\t185|\t170|\t2|\t162|\t1|\t3|\t5|\t5|\tStarlight|\t5|\tThale\n",
    "|6|\tGroo|\t186|\t86|\t4|\t186|\t171|\t2|\t160|\t1|\t3|\t5|\t5|\tGroo|\t5|\tEnt Elder\n",
    "|6|\tEddga|\t187|\t87|\t4|\t187|\t172|\t2|\t159|\t1|\t3|\t5|\t5|\tEddga|\t5|\tChief\n",
    "|6|\tVesa|\t188|\t88|\t4|\t188|\t173|\t2|\t162|\t1|\t3|\t5|\t5|\tVesa|\t5|\tThale\n",
    "|6|\tMalassa|\t189|\t89|\t4|\t189|\t174|\t2|\t163|\t1|\t3|\t5|\t5|\tMalassa|\t5|\tKargath\n",
    "|6|\tHeart Watcher|\t190|\t90|\t4|\t190|\t175|\t2|\t164|\t1|\t3|\t5|\t5|\tHeart Watcher|\t5|\tThe Grey-eyed\n",
    "|6|\tValkyrie|\t191|\t91|\t4|\t191|\t176|\t2|\t163|\t1|\t3|\t5|\t5|\tValkyrie|\t5|\tKargath\n",
    "|6|\tOberon|\t192|\t92|\t4|\t192|\t177|\t2|\t162|\t1|\t3|\t5|\t5|\tOberon|\t5|\tThale"
   ]
  },
  {
   "cell_type": "markdown",
   "metadata": {},
   "source": [
    "```table\n",
    "stars\tname\theroes_table_id\tid\tfaction_id\tresult_hero_id\tinput_hero_1_id\tinput_hero_1_amount\tinput_hero_2_id\tinput_hero_2_amount\tfodder_amount\tfodder_stars\tIH1stars\tIH1name\tIH2stars\tIH2name\n",
    "5\tWind Walker\t158\t70\t4\t158\t150\t4\t145\t4\t4\t4\t4\tWind Walker\t3\tSybil\n",
    "5\tChief\t159\t71\t4\t159\t151\t4\t147\t4\t4\t4\t4\tChief\t3\tBlue Shaman\n",
    "5\tEnt Elder\t160\t72\t4\t160\t152\t4\t148\t4\t4\t4\t4\tEnt Elder\t3\tFrey\n",
    "5\tHeadstriker\t161\t73\t4\t161\t153\t4\t146\t4\t4\t4\t4\tHeadstriker\t3\tUndomiel\n",
    "5\tThale\t162\t74\t4\t162\t154\t4\t149\t4\t4\t4\t4\tThale\t3\tForests Captain\n",
    "5\tKargath\t163\t75\t4\t163\t155\t4\t146\t4\t4\t4\t4\tKargath\t3\tUndomiel\n",
    "5\tThe Grey-eyed\t164\t76\t4\t164\t156\t4\t148\t4\t4\t4\t4\tThe Grey-eyed\t3\tFrey\n",
    "5\tZekkis\t165\t77\t4\t165\t157\t4\t147\t4\t4\t4\t4\tZekkis\t3\tBlue Shaman\n",
    "6\tThale\t178\t78\t4\t178\t162\t2\t165\t1\t3\t5\t5\tThale\t5\tZekkis\n",
    "6\tThe Grey-eyed\t179\t79\t4\t179\t164\t2\t161\t1\t3\t5\t5\tThe Grey-eyed\t5\tHeadstriker\n",
    "6\tZekkis\t180\t80\t4\t180\t165\t2\t162\t1\t3\t5\t5\tZekkis\t5\tThale\n",
    "6\tDemon Hunter\t181\t81\t4\t181\t166\t2\t158\t1\t3\t5\t5\tDemon Hunter\t5\tWind Walker\n",
    "6\tDragon Slayer\t182\t82\t4\t182\t167\t2\t163\t1\t3\t5\t5\tDragon Slayer\t5\tKargath\n",
    "6\tFaceless\t183\t83\t4\t183\t168\t2\t161\t1\t3\t5\t5\tFaceless\t5\tHeadstriker\n",
    "6\tRosa\t184\t84\t4\t184\t169\t2\t165\t1\t3\t5\t5\tRosa\t5\tZekkis\n",
    "6\tStarlight\t185\t85\t4\t185\t170\t2\t162\t1\t3\t5\t5\tStarlight\t5\tThale\n",
    "6\tGroo\t186\t86\t4\t186\t171\t2\t160\t1\t3\t5\t5\tGroo\t5\tEnt Elder\n",
    "6\tEddga\t187\t87\t4\t187\t172\t2\t159\t1\t3\t5\t5\tEddga\t5\tChief\n",
    "6\tVesa\t188\t88\t4\t188\t173\t2\t162\t1\t3\t5\t5\tVesa\t5\tThale\n",
    "6\tMalassa\t189\t89\t4\t189\t174\t2\t163\t1\t3\t5\t5\tMalassa\t5\tKargath\n",
    "6\tHeart Watcher\t190\t90\t4\t190\t175\t2\t164\t1\t3\t5\t5\tHeart Watcher\t5\tThe Grey-eyed\n",
    "6\tValkyrie\t191\t91\t4\t191\t176\t2\t163\t1\t3\t5\t5\tValkyrie\t5\tKargath\n",
    "6\tOberon\t192\t92\t4\t192\t177\t2\t162\t1\t3\t5\t5\tOberon\t5\tThale\n",
    "```"
   ]
  },
  {
   "cell_type": "code",
   "execution_count": null,
   "metadata": {},
   "outputs": [],
   "source": []
  }
 ],
 "metadata": {
  "kernelspec": {
   "display_name": "Python 3",
   "language": "python",
   "name": "python3"
  },
  "language_info": {
   "codemirror_mode": {
    "name": "ipython",
    "version": 3
   },
   "file_extension": ".py",
   "mimetype": "text/x-python",
   "name": "python",
   "nbconvert_exporter": "python",
   "pygments_lexer": "ipython3",
   "version": "3.6.6"
  }
 },
 "nbformat": 4,
 "nbformat_minor": 2
}
